{
 "cells": [
  {
   "cell_type": "code",
   "execution_count": 111,
   "id": "f6d9136b",
   "metadata": {},
   "outputs": [
    {
     "data": {
      "text/plain": [
       "norm (generic function with 1 method)"
      ]
     },
     "execution_count": 111,
     "metadata": {},
     "output_type": "execute_result"
    }
   ],
   "source": [
    "using Images\n",
    "\n",
    "pic = load(raw\"C:\\Users\\matthew\\Pictures\\dog.png\")\n",
    "#pic = load(raw\"C:\\Users\\matthew\\Pictures\\boboi.jpg\")\n",
    "h, w = size(pic)\n",
    "pic\n",
    "\n",
    "struct XY{T}\n",
    "    x::T\n",
    "    y::T\n",
    "    XY(T::Type) = new{T}(zero(T), zero(T))\n",
    "end\n",
    "\n",
    "xy2p(xy::XY) = XY{Int32}(1 + floor(Int, xy.x * (w-1)), 1 + floor(Int, xy.y * (h-1))) \n",
    "xy2pf(xy::XY) = XY{Float32}(1 + xy.x * (w-1), 1 + xy.y * (h-1)) \n",
    "\n",
    "picXY(xy::XY{Int32}) = pic[xy.y, xy.x]\n",
    "function picXY(xy::XY)\n",
    "    if xy.x > w\n",
    "        x = w\n",
    "    else\n",
    "        x = round(Int32, xy.x)\n",
    "    end\n",
    "    if xy.y > h\n",
    "        y = h\n",
    "    else\n",
    "        y = round(Int32, xy.y)\n",
    "    end\n",
    "    \n",
    "    pic[y, x]\n",
    "end\n",
    "\n",
    "function picXYq(xy::XY)\n",
    "    p = xy2pf(xy)\n",
    "    ( \n",
    "        picXY(p),\n",
    "        picXY(XY(p.x, p.y+one(typeof(p.x)))),\n",
    "        picXY(XY(p.x+one(typeof(p.x)), p.y+one(typeof(p.x)))),\n",
    "        picXY(XY(p.x+one(typeof(p.x)), p.y)),\n",
    "    )\n",
    "    \n",
    "end\n",
    "\n",
    "function norm(n)\n",
    "    if n < zero(typeof(n))\n",
    "        k = one(typeof(n)) + n - ceil(n)\n",
    "        if k == one(typeof(n))\n",
    "            return zero(typeof(n))\n",
    "        end\n",
    "        return k\n",
    "    end\n",
    "    \n",
    "    if n == zero(typeof(n))\n",
    "        return zero(typeof(n))\n",
    "    end\n",
    "    \n",
    "    k = n - floor(n)\n",
    "    if k == zero(typeof(n))\n",
    "       return one(typeof(n))\n",
    "    end\n",
    "    k\n",
    "end"
   ]
  },
  {
   "cell_type": "code",
   "execution_count": 95,
   "id": "c8b580bf",
   "metadata": {},
   "outputs": [
    {
     "data": {
      "text/plain": [
       "rangeXYS (generic function with 1 method)"
      ]
     },
     "execution_count": 95,
     "metadata": {},
     "output_type": "execute_result"
    }
   ],
   "source": [
    "function rangeXYS(xys)\n",
    "    minx = miny = Inf\n",
    "    maxx = maxy = -Inf\n",
    "    \n",
    "    for xy in xys\n",
    "        if xy.x < minx\n",
    "            minx = xy.x\n",
    "        elseif xy.x > maxx\n",
    "            maxx = xy.x\n",
    "        end\n",
    "        if xy.y < miny\n",
    "            miny = xy.y\n",
    "        elseif xy.y > maxy\n",
    "            maxy = xy.y\n",
    "        end\n",
    "    end\n",
    "    XY(minx, miny), XY(maxx, maxy)\n",
    "end"
   ]
  },
  {
   "cell_type": "code",
   "execution_count": 59,
   "id": "f80f0c72",
   "metadata": {},
   "outputs": [
    {
     "data": {
      "text/plain": [
       "\"norms\""
      ]
     },
     "execution_count": 59,
     "metadata": {},
     "output_type": "execute_result"
    }
   ],
   "source": [
    "cords = Matrix{XY{Float32}}(undef, 3h, 3w)\n",
    "norms = Matrix{XY{Float32}}(undef, 3h, 3w)\n",
    "\n",
    "for y in 1:3h\n",
    "    ny = (y-1)/(3h-1)\n",
    "    for x in 1:3w\n",
    "        norms[y,x] = XY{Float32}((x-1)/(3w-1), ny)\n",
    "    end\n",
    "end\n",
    ";\n",
    "\"norms\""
   ]
  },
  {
   "cell_type": "code",
   "execution_count": 109,
   "id": "02e3d784",
   "metadata": {},
   "outputs": [
    {
     "data": {
      "text/plain": [
       "\"corded\""
      ]
     },
     "execution_count": 109,
     "metadata": {},
     "output_type": "execute_result"
    }
   ],
   "source": [
    "  \n",
    "function renorm(cs)\n",
    "    map(c->XY(norm(c.x), norm(c.y)), cs)\n",
    "end\n",
    "\n",
    "function sampleLinear(xy::XY)\n",
    "    pf = xy2pf(xy)\n",
    "    ls = pf.x - floor(pf.x)\n",
    "    bs = pf.y - floor(pf.y)\n",
    "    bl = \n",
    "    pixXY\n",
    "    pic[1 + floor(Int, ny * (h-1)), 1 + floor(Int, nx * (w-1))]\n",
    "end\n",
    "\n",
    "for y in 1:3h, x in 1:3w\n",
    "    cords[y,x] = XY{Float32}(.4norms[y,x].x, .3norms[y,x].y)\n",
    "end\n",
    "\n",
    "\"corded\""
   ]
  },
  {
   "cell_type": "code",
   "execution_count": 107,
   "id": "e2491ad6",
   "metadata": {},
   "outputs": [
    {
     "data": {
      "text/plain": [
       "(XY{Float32}(0.0f0, 0.0f0), XY{Float32}(1.0f0, 0.9985229f0))"
      ]
     },
     "execution_count": 107,
     "metadata": {},
     "output_type": "execute_result"
    }
   ],
   "source": [
    "rangeXYS(renorm(cords))"
   ]
  },
  {
   "cell_type": "code",
   "execution_count": 110,
   "id": "293b3111",
   "metadata": {},
   "outputs": [
    {
     "data": {
      "image/png": "[encoded data removed]",
      "text/plain": [
       "678×717 Array{RGBA{N0f8},2} with eltype RGBA{N0f8}:\n",
       " RGBA{N0f8}(0.263,0.471,0.682,1.0)  …  RGBA{N0f8}(0.286,0.482,0.675,1.0)\n",
       " RGBA{N0f8}(0.263,0.471,0.682,1.0)     RGBA{N0f8}(0.286,0.482,0.675,1.0)\n",
       " RGBA{N0f8}(0.263,0.471,0.682,1.0)     RGBA{N0f8}(0.286,0.482,0.675,1.0)\n",
       " RGBA{N0f8}(0.263,0.471,0.682,1.0)     RGBA{N0f8}(0.286,0.482,0.675,1.0)\n",
       " RGBA{N0f8}(0.263,0.471,0.682,1.0)     RGBA{N0f8}(0.286,0.482,0.675,1.0)\n",
       " RGBA{N0f8}(0.263,0.471,0.682,1.0)  …  RGBA{N0f8}(0.286,0.482,0.675,1.0)\n",
       " RGBA{N0f8}(0.263,0.471,0.682,1.0)     RGBA{N0f8}(0.286,0.482,0.675,1.0)\n",
       " RGBA{N0f8}(0.263,0.471,0.682,1.0)     RGBA{N0f8}(0.286,0.482,0.675,1.0)\n",
       " RGBA{N0f8}(0.263,0.471,0.682,1.0)     RGBA{N0f8}(0.286,0.482,0.675,1.0)\n",
       " RGBA{N0f8}(0.263,0.471,0.682,1.0)     RGBA{N0f8}(0.286,0.482,0.675,1.0)\n",
       " RGBA{N0f8}(0.263,0.471,0.682,1.0)  …  RGBA{N0f8}(0.286,0.482,0.675,1.0)\n",
       " RGBA{N0f8}(0.263,0.471,0.682,1.0)     RGBA{N0f8}(0.29,0.486,0.678,1.0)\n",
       " RGBA{N0f8}(0.263,0.471,0.682,1.0)     RGBA{N0f8}(0.29,0.486,0.678,1.0)\n",
       " ⋮                                  ⋱  \n",
       " RGBA{N0f8}(0.255,0.51,0.729,1.0)      RGBA{N0f8}(0.859,0.616,0.384,1.0)\n",
       " RGBA{N0f8}(0.255,0.51,0.729,1.0)      RGBA{N0f8}(0.859,0.616,0.384,1.0)\n",
       " RGBA{N0f8}(0.255,0.51,0.729,1.0)      RGBA{N0f8}(0.859,0.616,0.384,1.0)\n",
       " RGBA{N0f8}(0.255,0.51,0.729,1.0)      RGBA{N0f8}(0.859,0.616,0.384,1.0)\n",
       " RGBA{N0f8}(0.255,0.51,0.729,1.0)   …  RGBA{N0f8}(0.859,0.616,0.384,1.0)\n",
       " RGBA{N0f8}(0.255,0.51,0.729,1.0)      RGBA{N0f8}(0.859,0.616,0.384,1.0)\n",
       " RGBA{N0f8}(0.255,0.518,0.733,1.0)     RGBA{N0f8}(0.855,0.604,0.365,1.0)\n",
       " RGBA{N0f8}(0.255,0.518,0.733,1.0)     RGBA{N0f8}(0.855,0.604,0.365,1.0)\n",
       " RGBA{N0f8}(0.255,0.518,0.733,1.0)     RGBA{N0f8}(0.855,0.604,0.365,1.0)\n",
       " RGBA{N0f8}(0.255,0.518,0.733,1.0)  …  RGBA{N0f8}(0.855,0.604,0.365,1.0)\n",
       " RGBA{N0f8}(0.255,0.518,0.733,1.0)     RGBA{N0f8}(0.855,0.604,0.365,1.0)\n",
       " RGBA{N0f8}(0.255,0.518,0.733,1.0)     RGBA{N0f8}(0.855,0.604,0.365,1.0)"
      ]
     },
     "execution_count": 110,
     "metadata": {},
     "output_type": "execute_result"
    }
   ],
   "source": [
    "samples = map(c->xy2p(c), renorm(cords))\n",
    "map(s->picXY(s), samples)"
   ]
  }
 ],
 "metadata": {
  "kernelspec": {
   "display_name": "Julia 1.6.1",
   "language": "julia",
   "name": "julia-1.6"
  },
  "language_info": {
   "file_extension": ".jl",
   "mimetype": "application/julia",
   "name": "julia",
   "version": "1.6.1"
  }
 },
 "nbformat": 4,
 "nbformat_minor": 5
}
