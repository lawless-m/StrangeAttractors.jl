{
 "cells": [
  {
   "cell_type": "code",
   "execution_count": 2,
   "id": "409cbcbe",
   "metadata": {},
   "outputs": [
    {
     "data": {
      "text/plain": [
       "(w,)"
      ]
     },
     "execution_count": 2,
     "metadata": {},
     "output_type": "execute_result"
    }
   ],
   "source": [
    "using Images\n",
    "using FileIO\n",
    "using DynamicPolynomials\n",
    "\n",
    "@polyvar x\n",
    "@polyvar y\n",
    "@polyvar z\n",
    "@polyvar w\n",
    "\n"
   ]
  },
  {
   "cell_type": "code",
   "execution_count": 3,
   "id": "0fc323c5",
   "metadata": {},
   "outputs": [
    {
     "data": {
      "text/plain": [
       "progs (generic function with 1 method)"
      ]
     },
     "execution_count": 3,
     "metadata": {},
     "output_type": "execute_result"
    }
   ],
   "source": [
    "\n",
    "function progs(ndims, order)\n",
    "    m = 1\n",
    "    dims = [\"x\", \"y\", \"z\", \"w\"]\n",
    "\n",
    "    progs = Dict{String, Vector{String}}()\n",
    "    for i in 1:ndims\n",
    "        d = dims[i]\n",
    "        progs[d] = Vector{String}()\n",
    "        push!(progs[d], \"a[$m]\")\n",
    "        m += 1\n",
    "        for i1 in 1:ndims\n",
    "            push!(progs[d], \"a[$m] * $(dims[i1])\")\n",
    "            m += 1\n",
    "            for i2 in i1:ndims\n",
    "                push!(progs[d], \"a[$m] * $(dims[i1]) * $(dims[i2])\")\n",
    "                m += 1\n",
    "                if order > 2\n",
    "                    for i3 in i2:ndims\n",
    "                        push!(progs[d], \"a[$m] * $(dims[i1]) * $(dims[i2]) * $(dims[i3])\")\n",
    "                        m += 1\n",
    "                        if order > 3\n",
    "                            for i4 in i3:ndims\n",
    "                                push!(progs[d], \"a[$m] * $(dims[i1]) * $(dims[i2]) * $(dims[i3]) * $(dims[i4])\")\n",
    "                                m += 1\n",
    "                                if order > 4\n",
    "                                    for i5 in i4:ndims\n",
    "                                        push!(progs[d], \"a[$m] * $(dims[i1]) * $(dims[i2]) * $(dims[i3]) * $(dims[i4]) * $(dims[i5])\")\n",
    "                                        m += 1\n",
    "                                    end\n",
    "                                end\n",
    "                            end\n",
    "                        end\n",
    "                    end\n",
    "                end\n",
    "            end\n",
    "        end\n",
    "    end\n",
    "    progs, m-1\n",
    "end\n"
   ]
  },
  {
   "cell_type": "code",
   "execution_count": 4,
   "id": "ad37a38a",
   "metadata": {},
   "outputs": [
    {
     "data": {
      "text/plain": [
       "polys (generic function with 1 method)"
      ]
     },
     "execution_count": 4,
     "metadata": {},
     "output_type": "execute_result"
    }
   ],
   "source": [
    "function polys(es::Dict{String, Expr})\n",
    "    ps = Dict{String, DynamicPolynomials.Polynomial{true,Float64}}()\n",
    "\n",
    "    for d in keys(es)\n",
    "        ps[d] = eval(es[d])\n",
    "    end\n",
    "    ps\n",
    "end"
   ]
  },
  {
   "cell_type": "code",
   "execution_count": 5,
   "id": "e2bf0d38",
   "metadata": {},
   "outputs": [
    {
     "data": {
      "text/plain": [
       "exprs (generic function with 1 method)"
      ]
     },
     "execution_count": 5,
     "metadata": {},
     "output_type": "execute_result"
    }
   ],
   "source": [
    "\n",
    "function exprs(ps::Dict{String, Vector{String}})\n",
    "\n",
    "    es = Dict{String, Expr}()\n",
    "    for d in keys(ps)\n",
    "        es[d] = Meta.parse(join(ps[d], \" + \"))\n",
    "    end\n",
    "\n",
    "    es\n",
    "end\n"
   ]
  },
  {
   "cell_type": "code",
   "execution_count": 6,
   "id": "d2bab098",
   "metadata": {},
   "outputs": [
    {
     "data": {
      "text/plain": [
       "string2args (generic function with 1 method)"
      ]
     },
     "execution_count": 6,
     "metadata": {},
     "output_type": "execute_result"
    }
   ],
   "source": [
    "\n",
    "\n",
    "function string2args(s::String)\n",
    "    [(Int(c)-77)/10.0 for c in s]\n",
    "end\n"
   ]
  },
  {
   "cell_type": "code",
   "execution_count": 7,
   "id": "662efe60",
   "metadata": {},
   "outputs": [
    {
     "data": {
      "text/plain": [
       "write_raw (generic function with 1 method)"
      ]
     },
     "execution_count": 7,
     "metadata": {},
     "output_type": "execute_result"
    }
   ],
   "source": [
    "\n",
    "\n",
    "function write_raw(iters, w, h)\n",
    "    hrange = (minimum(iters[\"x\"]), maximum(iters[\"x\"]))\n",
    "    hscale = (w-1) / (hrange[2]-hrange[1])\n",
    "    yrange = (minimum(iters[\"y\"]), maximum(iters[\"y\"]))\n",
    "    yscale = (h-1) / (yrange[2]-yrange[1])\n",
    "\n",
    "    pixels = zeros(Int64, w, h)\n",
    "\n",
    "    for i in 1:length(iters[\"x\"])\n",
    "        x = floor(Int64, 1+(iters[\"x\"][i] - hrange[1]) * hscale)\n",
    "        y = floor(Int64, 1+(iters[\"y\"][i] - yrange[1]) * yscale)\n",
    "        pixels[x, y] += 1\n",
    "    end\n",
    "\n",
    "    gmax = 1 / maximum(pixels)\n",
    "    \n",
    "    gs =  (pixels .* gmax) |> colorview(Gray)\n",
    "    \n",
    "    save(\"t.jpg\", gs)\n",
    "    gs\n",
    "end"
   ]
  },
  {
   "cell_type": "code",
   "execution_count": 8,
   "id": "aaea613e",
   "metadata": {},
   "outputs": [
    {
     "data": {
      "text/plain": [
       "iterate (generic function with 1 method)"
      ]
     },
     "execution_count": 8,
     "metadata": {},
     "output_type": "execute_result"
    }
   ],
   "source": [
    "function iterate(ps, states, ns)\n",
    "    \n",
    "    n = 1 + ns[end]-ns[1]\n",
    "\n",
    "    iters = Dict{String, Vector{Float64}}()\n",
    "    for d in keys(ps)\n",
    "        iters[d] = zeros(Float64, n)\n",
    "    end\n",
    "\n",
    "\n",
    "    for i in 1:n\n",
    "        for d in keys(iters)\n",
    "            states[d] = iters[d][i] = ps[d](x=>states[\"x\"], y=>states[\"y\"], z=>states[\"z\"], w=>states[\"w\"])\n",
    "        end\n",
    "    end\n",
    "\n",
    "    iters\n",
    "end"
   ]
  },
  {
   "cell_type": "code",
   "execution_count": 17,
   "id": "5a44bb30",
   "metadata": {},
   "outputs": [
    {
     "data": {
      "text/plain": [
       "lyup (generic function with 1 method)"
      ]
     },
     "execution_count": 17,
     "metadata": {},
     "output_type": "execute_result"
    }
   ],
   "source": [
    "function lyup(vs)\n",
    "    L = 0.\n",
    "    for i in 2:length(vs)\n",
    "        L += abs(vs[i-1] - vs[i])\n",
    "    end\n",
    "    L /= length(vs)\n",
    "    0.721347 * log(L)\n",
    "end"
   ]
  },
  {
   "cell_type": "code",
   "execution_count": 112,
   "id": "a295effd",
   "metadata": {},
   "outputs": [
    {
     "data": {
      "text/plain": [
       "valid (generic function with 1 method)"
      ]
     },
     "execution_count": 112,
     "metadata": {},
     "output_type": "execute_result"
    }
   ],
   "source": [
    "function valid(iters)\n",
    "   for d in keys(iters)\n",
    "        ld = lyup(iters[d])\n",
    "        if isnan(ld) || ld == Inf\n",
    "            return false\n",
    "        end\n",
    "    end\n",
    "    return true\n",
    "end"
   ]
  },
  {
   "cell_type": "code",
   "execution_count": 130,
   "id": "00041168",
   "metadata": {},
   "outputs": [
    {
     "name": "stdout",
     "output_type": "stream",
     "text": [
      "Dict(\"x\" => [0.22061995792071332, 0.3305425136851784, 0.44688653443115034, 0.618631161509061, 0.9770781273448367, 2.2589801939561562, 19.184856690831715, 30512.619313996274, 7.511635474886118e16, 2.6554310411979717e66], \"y\" => [0.08366812896268386, 0.13834209069734316, 0.2284103272940013, 0.4132513447996993, 0.9731809539534083, 4.66263258581606, 239.61747950669724, 3.810836794127402e8, 2.2658111676935248e33, 2.8315533874942928e132])\n",
      "Dict(\"w\" => 0.05, \"x\" => 2.6554310411979717e66, \"z\" => 0.05, \"y\" => 2.8315533874942928e132)\n"
     ]
    }
   ],
   "source": [
    "using Random \n",
    "\n",
    "while true\n",
    "    pgs, as = progs(2,2)\n",
    "    a = rand(as)\n",
    "    es = exprs(pgs)\n",
    "    pl = polys(es)\n",
    "\n",
    "    states = Dict{String, Float64}()\n",
    "    states[\"x\"] = 0.05\n",
    "    states[\"y\"] = 0.05\n",
    "    states[\"z\"] = 0.05\n",
    "    states[\"w\"] = 0.05\n",
    "\n",
    "    iters = iterate(pl, states, 1:10)\n",
    "\n",
    "    if valid(iters)\n",
    "        println(iters)\n",
    "        println(states)\n",
    "        break\n",
    "    end\n",
    "end\n"
   ]
  },
  {
   "cell_type": "code",
   "execution_count": null,
   "id": "314ceefe",
   "metadata": {},
   "outputs": [],
   "source": [
    "\n",
    "\n",
    "println(pl)\n",
    "dx = differentiate(pl[\"x\"], x)\n",
    "dy = differentiate(pl[\"y\"], y)\n",
    "\n",
    "for i in 1:100\n",
    "    [dx(x=)]"
   ]
  }
 ],
 "metadata": {
  "kernelspec": {
   "display_name": "Julia 1.6.1",
   "language": "julia",
   "name": "julia-1.6"
  },
  "language_info": {
   "file_extension": ".jl",
   "mimetype": "application/julia",
   "name": "julia",
   "version": "1.6.1"
  }
 },
 "nbformat": 4,
 "nbformat_minor": 5
}
