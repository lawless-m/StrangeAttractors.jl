{
 "cells": [
  {
   "cell_type": "code",
   "execution_count": 1,
   "id": "409cbcbe",
   "metadata": {},
   "outputs": [
    {
     "data": {
      "text/plain": [
       "(w,)"
      ]
     },
     "execution_count": 1,
     "metadata": {},
     "output_type": "execute_result"
    }
   ],
   "source": [
    "using Images\n",
    "using FileIO\n",
    "using DynamicPolynomials\n",
    "\n",
    "@polyvar x\n",
    "@polyvar y\n",
    "@polyvar z\n",
    "@polyvar w\n",
    "\n"
   ]
  },
  {
   "cell_type": "code",
   "execution_count": 2,
   "id": "0fc323c5",
   "metadata": {},
   "outputs": [
    {
     "data": {
      "text/plain": [
       "progs (generic function with 1 method)"
      ]
     },
     "execution_count": 2,
     "metadata": {},
     "output_type": "execute_result"
    }
   ],
   "source": [
    "\n",
    "function progs(ndims, order)\n",
    "    m = 1\n",
    "    dims = [\"x\", \"y\", \"z\", \"w\"]\n",
    "\n",
    "    progs = Dict{String, Vector{String}}()\n",
    "    for i in 1:ndims\n",
    "        d = dims[i]\n",
    "        progs[d] = Vector{String}()\n",
    "        push!(progs[d], \"a[$m]\")\n",
    "        m += 1\n",
    "        for i1 in 1:ndims\n",
    "            push!(progs[d], \"a[$m] * $(dims[i1])\")\n",
    "            m += 1\n",
    "            for i2 in i1:ndims\n",
    "                push!(progs[d], \"a[$m] * $(dims[i1]) * $(dims[i2])\")\n",
    "                m += 1\n",
    "                if order > 2\n",
    "                    for i3 in i2:ndims\n",
    "                        push!(progs[d], \"a[$m] * $(dims[i1]) * $(dims[i2]) * $(dims[i3])\")\n",
    "                        m += 1\n",
    "                        if order > 3\n",
    "                            for i4 in i3:ndims\n",
    "                                push!(progs[d], \"a[$m] * $(dims[i1]) * $(dims[i2]) * $(dims[i3]) * $(dims[i4])\")\n",
    "                                m += 1\n",
    "                                if order > 4\n",
    "                                    for i5 in i4:ndims\n",
    "                                        push!(progs[d], \"a[$m] * $(dims[i1]) * $(dims[i2]) * $(dims[i3]) * $(dims[i4]) * $(dims[i5])\")\n",
    "                                        m += 1\n",
    "                                    end\n",
    "                                end\n",
    "                            end\n",
    "                        end\n",
    "                    end\n",
    "                end\n",
    "            end\n",
    "        end\n",
    "    end\n",
    "    progs, m-1\n",
    "end\n"
   ]
  },
  {
   "cell_type": "code",
   "execution_count": 21,
   "id": "ad37a38a",
   "metadata": {},
   "outputs": [
    {
     "data": {
      "text/plain": [
       "polys (generic function with 2 methods)"
      ]
     },
     "execution_count": 21,
     "metadata": {},
     "output_type": "execute_result"
    }
   ],
   "source": [
    "function polys(es::Dict{String, Expr})\n",
    "    ps = Dict{String, DynamicPolynomials.Polynomial{true,Float64}}()\n",
    "\n",
    "    for d in keys(es)\n",
    "        ps[d] = eval(es[d])\n",
    "    end\n",
    "    ps\n",
    "end"
   ]
  },
  {
   "cell_type": "code",
   "execution_count": 22,
   "id": "e2bf0d38",
   "metadata": {},
   "outputs": [
    {
     "data": {
      "text/plain": [
       "exprs (generic function with 2 methods)"
      ]
     },
     "execution_count": 22,
     "metadata": {},
     "output_type": "execute_result"
    }
   ],
   "source": [
    "\n",
    "function exprs(ps::Dict{String, Vector{String}})\n",
    "\n",
    "    es = Dict{String, Expr}()\n",
    "    for d in keys(ps)\n",
    "        es[d] = Meta.parse(join(ps[d], \" + \"))\n",
    "    end\n",
    "\n",
    "    es\n",
    "end\n"
   ]
  },
  {
   "cell_type": "code",
   "execution_count": 5,
   "id": "d2bab098",
   "metadata": {},
   "outputs": [
    {
     "data": {
      "text/plain": [
       "string2args (generic function with 1 method)"
      ]
     },
     "execution_count": 5,
     "metadata": {},
     "output_type": "execute_result"
    }
   ],
   "source": [
    "\n",
    "\n",
    "function string2args(s::String)\n",
    "    [(Int(c)-77)/10.0 for c in s]\n",
    "end\n"
   ]
  },
  {
   "cell_type": "code",
   "execution_count": 65,
   "id": "662efe60",
   "metadata": {},
   "outputs": [
    {
     "data": {
      "text/plain": [
       "write_raw (generic function with 1 method)"
      ]
     },
     "execution_count": 65,
     "metadata": {},
     "output_type": "execute_result"
    }
   ],
   "source": [
    "\n",
    "\n",
    "function write_raw(iters, w, h)\n",
    "    xrange = (minimum(iters[\"x\"]), maximum(iters[\"x\"]))\n",
    "    xscale = (w-1) / (xrange[2]-xrange[1])\n",
    "    yrange = (minimum(iters[\"y\"]), maximum(iters[\"y\"]))\n",
    "    yscale = (h-1) / (yrange[2]-yrange[1])\n",
    "\n",
    "    pixels = zeros(Int64, w, h)\n",
    "\n",
    "    for i in 1:length(iters[\"x\"])\n",
    "        fx = iters[\"x\"][i]\n",
    "        fy = iters[\"y\"][i]\n",
    "        if abs(fx) == Inf || isnan(fx) || abs(fy) == Inf || isnan(fy)\n",
    "            break\n",
    "        end\n",
    "        x = floor(Int64, 1+(fx - xrange[1]) * xscale)\n",
    "        y = floor(Int64, 1+(fy - yrange[1]) * yscale)\n",
    "        \n",
    "        pixels[x, y] += 1\n",
    "    end\n",
    "\n",
    "    gmax = 1 / maximum(pixels)\n",
    "    \n",
    "    gs =  (pixels .* gmax) |> colorview(Gray)\n",
    "    \n",
    "    save(\"t.jpg\", gs)\n",
    "    gs\n",
    "end"
   ]
  },
  {
   "cell_type": "code",
   "execution_count": 7,
   "id": "aaea613e",
   "metadata": {},
   "outputs": [
    {
     "data": {
      "text/plain": [
       "iterate (generic function with 1 method)"
      ]
     },
     "execution_count": 7,
     "metadata": {},
     "output_type": "execute_result"
    }
   ],
   "source": [
    "function iterate(ps, states, ns)\n",
    "    \n",
    "    n = 1 + ns[end]-ns[1]\n",
    "\n",
    "    iters = Dict{String, Vector{Float64}}()\n",
    "    for d in keys(ps)\n",
    "        iters[d] = zeros(Float64, n)\n",
    "    end\n",
    "\n",
    "    newstates = copy(states)\n",
    "\n",
    "    for i in 1:n\n",
    "        for d in keys(iters)\n",
    "            newstates[d] = iters[d][i] = ps[d](x=>states[\"x\"], y=>states[\"y\"], z=>states[\"z\"], w=>states[\"w\"])\n",
    "        end\n",
    "        for d in keys(iters)\n",
    "            states[d] = newstates[d]\n",
    "        end\n",
    "        \n",
    "    end\n",
    "\n",
    "    iters\n",
    "end"
   ]
  },
  {
   "cell_type": "code",
   "execution_count": 8,
   "id": "5a44bb30",
   "metadata": {},
   "outputs": [
    {
     "data": {
      "text/plain": [
       "lyup (generic function with 1 method)"
      ]
     },
     "execution_count": 8,
     "metadata": {},
     "output_type": "execute_result"
    }
   ],
   "source": [
    "function lyup(vs)\n",
    "    L = 0.\n",
    "    for i in 2:length(vs)\n",
    "        L += abs(vs[i-1] - vs[i])\n",
    "    end\n",
    "    L /= length(vs)\n",
    "    0.721347 * log(L)\n",
    "end"
   ]
  },
  {
   "cell_type": "code",
   "execution_count": 61,
   "id": "a295effd",
   "metadata": {},
   "outputs": [
    {
     "data": {
      "text/plain": [
       "valid (generic function with 1 method)"
      ]
     },
     "execution_count": 61,
     "metadata": {},
     "output_type": "execute_result"
    }
   ],
   "source": [
    "function valid(iters)\n",
    "   for d in keys(iters)\n",
    "        ld = lyup(iters[d])\n",
    "        if isnan(ld) || ld == Inf\n",
    "            return false\n",
    "        end\n",
    "        if lyup(iters[d][end-10:end]) < 0.00001\n",
    "            return false\n",
    "        end\n",
    "    end\n",
    "    return true\n",
    "end"
   ]
  },
  {
   "cell_type": "code",
   "execution_count": 66,
   "id": "00041168",
   "metadata": {},
   "outputs": [],
   "source": [
    "using Random \n",
    "\n",
    "global a\n",
    "\n",
    "while true\n",
    "    pgs, as = progs(2,2)\n",
    "    a = rand(as)\n",
    "    es = exprs(pgs)\n",
    "    pl = polys(es)\n",
    "\n",
    "    states = Dict{String, Float64}()\n",
    "    states[\"x\"] = 0.05\n",
    "    states[\"y\"] = 0.05\n",
    "    states[\"z\"] = 0.05\n",
    "    states[\"w\"] = 0.05\n",
    "\n",
    "    iters = iterate(pl, states, 1:100)\n",
    "\n",
    "    if valid(iters)\n",
    "        \n",
    "        states[\"x\"] = 0.05\n",
    "        states[\"y\"] = 0.05\n",
    "        states[\"z\"] = 0.05\n",
    "        states[\"w\"] = 0.05\n",
    "\n",
    "        write_raw(iterate(pl, states, 1:5000), 800, 600)\n",
    "        break\n",
    "    end\n",
    "end\n"
   ]
  },
  {
   "cell_type": "code",
   "execution_count": null,
   "id": "314ceefe",
   "metadata": {},
   "outputs": [],
   "source": [
    "\n",
    "\n",
    "println(pl)\n",
    "dx = differentiate(pl[\"x\"], x)\n",
    "dy = differentiate(pl[\"y\"], y)\n",
    "\n",
    "for i in 1:100\n",
    "    [dx(x=)]"
   ]
  },
  {
   "cell_type": "code",
   "execution_count": null,
   "id": "e55979bc",
   "metadata": {},
   "outputs": [],
   "source": []
  },
  {
   "cell_type": "code",
   "execution_count": null,
   "id": "f4b9ba00",
   "metadata": {},
   "outputs": [],
   "source": []
  }
 ],
 "metadata": {
  "kernelspec": {
   "display_name": "Julia 1.6.1",
   "language": "julia",
   "name": "julia-1.6"
  },
  "language_info": {
   "file_extension": ".jl",
   "mimetype": "application/julia",
   "name": "julia",
   "version": "1.6.1"
  }
 },
 "nbformat": 4,
 "nbformat_minor": 5
}
