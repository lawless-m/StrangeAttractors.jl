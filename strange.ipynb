{
 "cells": [
  {
   "cell_type": "code",
   "execution_count": 10,
   "id": "409cbcbe",
   "metadata": {},
   "outputs": [
    {
     "data": {
      "text/plain": [
       "(w,)"
      ]
     },
     "execution_count": 10,
     "metadata": {},
     "output_type": "execute_result"
    }
   ],
   "source": [
    "using Images\n",
    "using FileIO\n",
    "using DynamicPolynomials\n",
    "\n",
    "@polyvar x\n",
    "@polyvar y\n",
    "@polyvar z\n",
    "@polyvar w\n",
    "\n"
   ]
  },
  {
   "cell_type": "code",
   "execution_count": 12,
   "id": "0fc323c5",
   "metadata": {},
   "outputs": [
    {
     "data": {
      "text/plain": [
       "progs (generic function with 1 method)"
      ]
     },
     "execution_count": 12,
     "metadata": {},
     "output_type": "execute_result"
    }
   ],
   "source": [
    "\n",
    "function progs(ndims, order)\n",
    "    m = 1\n",
    "    dims = [\"x\", \"y\", \"z\", \"w\"]\n",
    "\n",
    "    progs = Dict{String, Vector{String}}()\n",
    "    for i in 1:ndims\n",
    "        d = dims[i]\n",
    "        progs[d] = Vector{String}()\n",
    "        push!(progs[d], \"a[$m]\")\n",
    "        m += 1\n",
    "        for i1 in 1:ndims\n",
    "            push!(progs[d], \"a[$m] * $(dims[i1])\")\n",
    "            m += 1\n",
    "            for i2 in i1:ndims\n",
    "                push!(progs[d], \"a[$m] * $(dims[i1]) * $(dims[i2])\")\n",
    "                m += 1\n",
    "                if order > 2\n",
    "                    for i3 in i2:ndims\n",
    "                        push!(progs[d], \"a[$m] * $(dims[i1]) * $(dims[i2]) * $(dims[i3])\")\n",
    "                        m += 1\n",
    "                        if order > 3\n",
    "                            for i4 in i3:ndims\n",
    "                                push!(progs[d], \"a[$m] * $(dims[i1]) * $(dims[i2]) * $(dims[i3]) * $(dims[i4])\")\n",
    "                                m += 1\n",
    "                                if order > 4\n",
    "                                    for i5 in i4:ndims\n",
    "                                        push!(progs[d], \"a[$m] * $(dims[i1]) * $(dims[i2]) * $(dims[i3]) * $(dims[i4]) * $(dims[i5])\")\n",
    "                                        m += 1\n",
    "                                    end\n",
    "                                end\n",
    "                            end\n",
    "                        end\n",
    "                    end\n",
    "                end\n",
    "            end\n",
    "        end\n",
    "    end\n",
    "    progs, m-1\n",
    "end\n"
   ]
  },
  {
   "cell_type": "code",
   "execution_count": 15,
   "id": "ad37a38a",
   "metadata": {},
   "outputs": [
    {
     "data": {
      "text/plain": [
       "polys (generic function with 1 method)"
      ]
     },
     "execution_count": 15,
     "metadata": {},
     "output_type": "execute_result"
    }
   ],
   "source": [
    "function polys(es::Dict{String, Expr}, a::Vector{Float64})\n",
    "    ps = Dict{String, DynamicPolynomials.Polynomial{true,Float64}}()\n",
    "\n",
    "    for d in keys(es)\n",
    "        ps[d] = eval(es[d])\n",
    "    end\n",
    "    ps\n",
    "end"
   ]
  },
  {
   "cell_type": "code",
   "execution_count": 31,
   "id": "e2bf0d38",
   "metadata": {},
   "outputs": [
    {
     "data": {
      "text/plain": [
       "exprs (generic function with 3 methods)"
      ]
     },
     "execution_count": 31,
     "metadata": {},
     "output_type": "execute_result"
    }
   ],
   "source": [
    "\n",
    "function exprs(ps::Dict{String, Vector{String}}, as::Int64)\n",
    "\n",
    "    es = Dict{String, Expr}()\n",
    "    for d in keys(ps)\n",
    "        es[d] = Meta.parse(join(ps[d], \" + \"))\n",
    "    end\n",
    "\n",
    "    es\n",
    "end\n"
   ]
  },
  {
   "cell_type": "code",
   "execution_count": 16,
   "id": "d2bab098",
   "metadata": {},
   "outputs": [
    {
     "data": {
      "text/plain": [
       "string2args (generic function with 1 method)"
      ]
     },
     "execution_count": 16,
     "metadata": {},
     "output_type": "execute_result"
    }
   ],
   "source": [
    "\n",
    "\n",
    "function string2args(s::String)\n",
    "    [(Int(c)-77)/10.0 for c in s]\n",
    "end\n"
   ]
  },
  {
   "cell_type": "code",
   "execution_count": 43,
   "id": "662efe60",
   "metadata": {},
   "outputs": [
    {
     "data": {
      "text/plain": [
       "write_raw (generic function with 1 method)"
      ]
     },
     "execution_count": 43,
     "metadata": {},
     "output_type": "execute_result"
    }
   ],
   "source": [
    "\n",
    "\n",
    "function write_raw(iters, w, h)\n",
    "    hrange = (minimum(iters[\"x\"]), maximum(iters[\"x\"]))\n",
    "    hscale = (w-1) / (hrange[2]-hrange[1])\n",
    "    yrange = (minimum(iters[\"y\"]), maximum(iters[\"y\"]))\n",
    "    yscale = (h-1) / (yrange[2]-yrange[1])\n",
    "\n",
    "    pixels = zeros(Int64, w, h)\n",
    "\n",
    "    for i in 1:length(iters[\"x\"])\n",
    "        x = floor(Int64, 1+(iters[\"x\"][i] - hrange[1]) * hscale)\n",
    "        y = floor(Int64, 1+(iters[\"y\"][i] - yrange[1]) * yscale)\n",
    "        pixels[x, y] += 1\n",
    "    end\n",
    "\n",
    "    gmax = 1 / maximum(pixels)\n",
    "    \n",
    "    gs =  (pixels .* gmax) |> colorview(Gray)\n",
    "    \n",
    "    save(\"t.jpg\", gs)\n",
    "    gs\n",
    "end"
   ]
  },
  {
   "cell_type": "code",
   "execution_count": 54,
   "id": "00041168",
   "metadata": {},
   "outputs": [
    {
     "name": "stdout",
     "output_type": "stream",
     "text": [
      "Dict{String, Expr}(\"x\" => :(a[1] + a[2] * x + a[3] * x * x + a[4] * x * y + a[5] * y + a[6] * y * y), \"y\" => :(a[7] + a[8] * x + a[9] * x * x + a[10] * x * y + a[11] * y + a[12] * y * y))\n",
      "Dict{String, Polynomial{true, Float64}}(\"x\" => 0.5662374165061859x² + 0.4600853424625171xy + 0.8541465903790502y² + 0.7667970365022592x + 0.7940257103317943y + 0.5908446386657102, \"y\" => 0.24683718661000897x² + 0.5796722333690416xy + 0.010905889635595356y² + 0.2986142783434118x + 0.6488819502093455y + 0.20058603493384108)\n"
     ]
    },
    {
     "ename": "LoadError",
     "evalue": "InexactError: trunc(Int64, NaN)",
     "output_type": "error",
     "traceback": [
      "InexactError: trunc(Int64, NaN)",
      "",
      "Stacktrace:",
      " [1] trunc",
      "   @ .\\float.jl:716 [inlined]",
      " [2] floor",
      "   @ .\\float.jl:294 [inlined]",
      " [3] write_raw(iters::Dict{String, Vector{Float64}}, w::Int64, h::Int64)",
      "   @ Main .\\In[43]:13",
      " [4] top-level scope",
      "   @ In[54]:33",
      " [5] eval",
      "   @ .\\boot.jl:360 [inlined]",
      " [6] include_string(mapexpr::typeof(REPL.softscope), mod::Module, code::String, filename::String)",
      "   @ Base .\\loading.jl:1094"
     ]
    }
   ],
   "source": [
    "using Random \n",
    "pgs, as = progs(2,2)\n",
    "es = exprs(pgs, as)\n",
    "println(es)\n",
    "a = string2args(\"EAGHNFODVNJCP\"[2:end])\n",
    "\n",
    "Random.seed!(1234)\n",
    "a = rand(as)\n",
    "aa = ones(as)\n",
    "\n",
    "ps = polys(es, aa)\n",
    "\n",
    "println(ps)\n",
    "\n",
    "n = 1000000\n",
    "iters = Dict{String, Vector{Float64}}()\n",
    "for d in keys(ps)\n",
    "    iters[d] = zeros(Float64, n)\n",
    "end\n",
    "\n",
    "states = Dict{String, Float64}()\n",
    "states[\"x\"] = 0.05\n",
    "states[\"y\"] = 0.05\n",
    "states[\"z\"] = 0.05\n",
    "states[\"w\"] = 0.05\n",
    "\n",
    "for i in 1:n\n",
    "    for d in keys(iters)\n",
    "        states[d] = iters[d][i] = ps[d](x=>states[\"x\"], y=>states[\"y\"], z=>states[\"z\"], w=>states[\"w\"])\n",
    "    end\n",
    "end\n",
    "\n",
    "write_raw(iters, 800, 600)\n"
   ]
  }
 ],
 "metadata": {
  "kernelspec": {
   "display_name": "Julia 1.6.1",
   "language": "julia",
   "name": "julia-1.6"
  },
  "language_info": {
   "file_extension": ".jl",
   "mimetype": "application/julia",
   "name": "julia",
   "version": "1.6.1"
  }
 },
 "nbformat": 4,
 "nbformat_minor": 5
}
