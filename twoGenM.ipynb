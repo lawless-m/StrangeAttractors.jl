{
 "cells": [
  {
   "cell_type": "code",
   "execution_count": 1,
   "id": "af150262",
   "metadata": {},
   "outputs": [],
   "source": [
    "using DynamicPolynomials\n",
    "using Images\n",
    "@polyvar x\n",
    "@polyvar y\n",
    ";\n"
   ]
  },
  {
   "cell_type": "code",
   "execution_count": 2,
   "id": "5ff53dbf",
   "metadata": {},
   "outputs": [],
   "source": [
    "norm2M(p, M) = (p-1)/(M-1)\n",
    "norm2range(n, min, max) = (max-min) * n + min\n",
    ";"
   ]
  },
  {
   "cell_type": "code",
   "execution_count": 17,
   "id": "05b60717",
   "metadata": {},
   "outputs": [],
   "source": [
    "\n",
    "w = 800\n",
    "h = 600\n",
    "\n",
    "coords = Matrix{Tuple{Float64,Float64}}(undef, h, w)\n",
    "for x in 1:w\n",
    "    cx = norm2range(norm2M(x,w),-1,1)\n",
    "    for y in 1:h\n",
    "        cy = norm2range(norm2M(y,h),-1,1)\n",
    "        coords[y,x] = (cx,cy)\n",
    "    end\n",
    "end\n",
    ";"
   ]
  },
  {
   "cell_type": "code",
   "execution_count": 18,
   "id": "586f78d7",
   "metadata": {},
   "outputs": [
    {
     "data": {
      "text/plain": [
       "fxy2am (generic function with 1 method)"
      ]
     },
     "execution_count": 18,
     "metadata": {},
     "output_type": "execute_result"
    }
   ],
   "source": [
    "function fxy2am(fx, ix, fy, iy)\n",
    "    \n",
    "    nx = fx(ix, iy) - ix\n",
    "    ny = fy(ix, iy) - iy\n",
    "    \n",
    "    \n",
    "    (atan(ny, nx) + pi) / 2pi, sqrt(nx^2 + ny^2)\n",
    "end\n",
    "\n",
    "    "
   ]
  },
  {
   "cell_type": "code",
   "execution_count": 94,
   "id": "ebbcf637",
   "metadata": {},
   "outputs": [
    {
     "data": {
      "text/plain": [
       "(0.9971130102669405, 50.35544405002901)"
      ]
     },
     "execution_count": 94,
     "metadata": {},
     "output_type": "execute_result"
    }
   ],
   "source": [
    "\n",
    "a = -0.5 .+ rand(7)\n",
    "py = a[1]*y^3 + a[2]*y^2 + a[3]*y + a[4] + a[5] * y^4 + a[6] * y^5 + a[7]*x^2\n",
    "a = -0.5 .+ rand(7)\n",
    "px = a[1]*x^3 + a[2]*x^2 + a[3]*x + a[4] + a[5] * x^4 + a[6] * x^5 + a[7]*y^2\n",
    "\n",
    "ffx(ix, iy) = px(x=>iy*sin(ix), y=>atan(3iy))\n",
    "ffy(ix, iy) = py(x=>ix*sin(iy), y=>cos(ix))\n"
   ]
  },
  {
   "cell_type": "code",
   "execution_count": 32,
   "id": "b557d6c3",
   "metadata": {},
   "outputs": [
    {
     "data": {
      "text/plain": [
       "(0.999999518314892, 4.141534986097851e-8)"
      ]
     },
     "execution_count": 32,
     "metadata": {},
     "output_type": "execute_result"
    }
   ],
   "source": [
    "\n"
   ]
  },
  {
   "cell_type": "code",
   "execution_count": 101,
   "id": "bd51a2e5",
   "metadata": {},
   "outputs": [],
   "source": [
    "using Formatting\n",
    "\n",
    "for m in 1:500\n",
    "    s = 5. / m\n",
    "    am = map(c->fxy2am(ffx, 50c[1], ffy, 50c[2]), map(c->(c[1]*c[2], sin(s)*sin(2pi*c[2])), coords))\n",
    "    pixels = map(t->HSV(360t[1], 1, 1), am)\n",
    "    save(sprintf1(\"m_%04d.png\", m), pixels)\n",
    "end\n",
    "    "
   ]
  },
  {
   "cell_type": "code",
   "execution_count": null,
   "id": "8c54ff46",
   "metadata": {},
   "outputs": [],
   "source": []
  }
 ],
 "metadata": {
  "kernelspec": {
   "display_name": "Julia 1.6.1",
   "language": "julia",
   "name": "julia-1.6"
  },
  "language_info": {
   "file_extension": ".jl",
   "mimetype": "application/julia",
   "name": "julia",
   "version": "1.6.1"
  }
 },
 "nbformat": 4,
 "nbformat_minor": 5
}
