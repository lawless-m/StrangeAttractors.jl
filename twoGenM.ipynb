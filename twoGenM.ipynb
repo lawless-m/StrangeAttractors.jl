{
 "cells": [
  {
   "cell_type": "code",
   "execution_count": 1,
   "id": "af150262",
   "metadata": {},
   "outputs": [],
   "source": [
    "using DynamicPolynomials\n",
    "using Images\n",
    "@polyvar x\n",
    "@polyvar y\n",
    "@polyvar t1\n",
    "@polyvar t2\n",
    ";\n"
   ]
  },
  {
   "cell_type": "code",
   "execution_count": 2,
   "id": "5ff53dbf",
   "metadata": {},
   "outputs": [],
   "source": [
    "norm2M(p, M) = (p-1)/(M-1)\n",
    "norm2range(n, min, max) = (max-min) * n + min\n",
    ";"
   ]
  },
  {
   "cell_type": "code",
   "execution_count": 3,
   "id": "05b60717",
   "metadata": {},
   "outputs": [],
   "source": [
    "\n",
    "w = 800\n",
    "h = 600\n",
    "\n",
    "coords = Matrix{Tuple{Float64,Float64}}(undef, h, w)\n",
    "for x in 1:w\n",
    "    cx = norm2range(norm2M(x,w),-1,1)\n",
    "    for y in 1:h\n",
    "        cy = norm2range(norm2M(y,h),-1,1)\n",
    "        coords[y,x] = (cx,cy)\n",
    "    end\n",
    "end\n",
    ";"
   ]
  },
  {
   "cell_type": "code",
   "execution_count": 4,
   "id": "586f78d7",
   "metadata": {},
   "outputs": [
    {
     "data": {
      "text/plain": [
       "fxy2am (generic function with 1 method)"
      ]
     },
     "execution_count": 4,
     "metadata": {},
     "output_type": "execute_result"
    }
   ],
   "source": [
    "function fxy2am(fx, ix, fy, iy, t)\n",
    "    \n",
    "    nx = fx(ix, iy, t) - ix\n",
    "    ny = fy(ix, iy, t) - iy\n",
    "    \n",
    "    \n",
    "    (atan(ny, nx) + pi) / 2pi, sqrt(nx^2 + ny^2)\n",
    "end\n",
    "\n",
    "    "
   ]
  },
  {
   "cell_type": "code",
   "execution_count": 14,
   "id": "ebbcf637",
   "metadata": {},
   "outputs": [
    {
     "data": {
      "text/plain": [
       "ffy (generic function with 1 method)"
      ]
     },
     "execution_count": 14,
     "metadata": {},
     "output_type": "execute_result"
    }
   ],
   "source": [
    "\n",
    "a = -0.5 .+ rand(7)\n",
    "py = a[1]*y^3 + a[2]*y^2 + a[3]*y + a[4] + a[5] * y^4 + a[6] * y^5 + a[7]*x^2\n",
    "a = -0.5 .+ rand(7)\n",
    "px = a[1]*x^3 + a[2]*x^2 + a[3]*x + a[4] + a[5] * x^4 + a[6] * x^5 + a[7]*y^2\n",
    "a = -0.5 .+ rand(7)\n",
    "ty = a[1]*t1^3 + a[2]*t1^2 + a[3]*t1 + a[4] + a[5] * t1^4 + a[6] * t1^5 \n",
    "a = -0.5 .+ rand(7)\n",
    "tx = a[1]*t2^3 + a[2]*t2^2 + a[3]*t2 + a[4] + a[5] * t2^4 + a[6] * t2^5 \n",
    "\n",
    "\n",
    "\n",
    "ffx(ix, iy, t) = px(x=>iy*sin(ix), y=>atan(3iy)) * sin(ty(t1=>t))\n",
    "ffy(ix, iy, t) = py(x=>ix*sin(iy), y=>cos(ix)) * sin(tx(t2=>t))\n"
   ]
  },
  {
   "cell_type": "code",
   "execution_count": null,
   "id": "b557d6c3",
   "metadata": {},
   "outputs": [],
   "source": [
    "\n"
   ]
  },
  {
   "cell_type": "code",
   "execution_count": 18,
   "id": "bd51a2e5",
   "metadata": {},
   "outputs": [],
   "source": [
    "using Formatting\n",
    "\n",
    "for m in 1:150\n",
    "    s = 5. / m\n",
    "    t = pi * Float64(m) / 150\n",
    "    am = map(c->fxy2am(ffx, 50c[1], ffy, 50c[2], t), map(c->(c[1], c[2]), coords))\n",
    "    pixels = map(t->HSV(360t[1], 1, 1), am)\n",
    "    save(sprintf1(\"mj_%04d.png\", m), pixels)\n",
    "end\n",
    "    "
   ]
  },
  {
   "cell_type": "code",
   "execution_count": null,
   "id": "8c54ff46",
   "metadata": {},
   "outputs": [],
   "source": []
  }
 ],
 "metadata": {
  "kernelspec": {
   "display_name": "Julia 1.6.1",
   "language": "julia",
   "name": "julia-1.6"
  },
  "language_info": {
   "file_extension": ".jl",
   "mimetype": "application/julia",
   "name": "julia",
   "version": "1.6.1"
  }
 },
 "nbformat": 4,
 "nbformat_minor": 5
}
